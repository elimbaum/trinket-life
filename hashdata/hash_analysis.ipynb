{
 "cells": [
  {
   "cell_type": "markdown",
   "metadata": {},
   "source": [
    "Read hash data from file:"
   ]
  },
  {
   "cell_type": "code",
   "execution_count": 10,
   "metadata": {},
   "outputs": [],
   "source": [
    "hash_data = []\n",
    "\n",
    "with open('hashes.txt') as f:\n",
    "    for line in f:\n",
    "        line = line.strip()\n",
    "        if line.startswith(\"MATCH\"):\n",
    "            # hash line\n",
    "            words = line.split(\" \")\n",
    "\n",
    "            hash = words[1]\n",
    "            gen = int(words[4])\n",
    "            t = int(words[5][1:])\n",
    "            \n",
    "            hash_data.append((hash, gen))"
   ]
  },
  {
   "cell_type": "markdown",
   "metadata": {},
   "source": [
    "Start analysis:\n",
    "\n",
    "- distribution of timings\n",
    "- distribution of generations\n",
    "- repeat hashes\n",
    "\n",
    "Actually, framerate is very consistent, so can ignore timing."
   ]
  },
  {
   "cell_type": "code",
   "execution_count": 14,
   "metadata": {},
   "outputs": [
    {
     "name": "stdout",
     "output_type": "stream",
     "text": [
      "1082 hashes\n",
      "0 dups\n"
     ]
    }
   ],
   "source": [
    "hash_set = set()\n",
    "n_dups = 0\n",
    "for H, G in hash_data:\n",
    "    if H in hash_set:\n",
    "        print(\"dup\", H)\n",
    "        n_dups += 1\n",
    "    else:\n",
    "        hash_set.add(H)\n",
    "\n",
    "print(len(hash_data), \"hashes\")\n",
    "print(n_dups, \"dup hashes\")"
   ]
  },
  {
   "cell_type": "code",
   "execution_count": 76,
   "metadata": {},
   "outputs": [
    {
     "name": "stdout",
     "output_type": "stream",
     "text": [
      "repeat gen lengths\n",
      "[(368, 6), (607, 6), (395, 5), (381, 4), (364, 4), (232, 4), (448, 4), (233, 4), (497, 4), (333, 4)]\n"
     ]
    }
   ],
   "source": [
    "from collections import Counter\n",
    "\n",
    "gen_set = Counter()\n",
    "n_dups = 0\n",
    "for H, G in hash_data:\n",
    "    if G in gen_set:\n",
    "#         print(\"dup\", G, H)\n",
    "        gen_set[G] += 1\n",
    "    else:\n",
    "        gen_set[G] = 1\n",
    "\n",
    "print(\"repeat gen lengths\")\n",
    "print(gen_set.most_common(10))"
   ]
  },
  {
   "cell_type": "code",
   "execution_count": 75,
   "metadata": {},
   "outputs": [
    {
     "name": "stdout",
     "output_type": "stream",
     "text": [
      "bounds: 72 3672\n",
      "mean 715.1173752310536\n",
      "median 579.0\n"
     ]
    },
    {
     "data": {
      "image/png": "[encoded data removed]",
      "text/plain": [
       "<Figure size 432x288 with 1 Axes>"
      ]
     },
     "metadata": {
      "needs_background": "light"
     },
     "output_type": "display_data"
    }
   ],
   "source": [
    "import matplotlib.pyplot as plt\n",
    "import numpy as np\n",
    "import scipy.stats as ss\n",
    "\n",
    "gen_list = list(map(lambda x: x[1], hash_data))\n",
    "\n",
    "plt.hist(gen_list, bins=50)\n",
    "\n",
    "print(\"bounds:\", min(gen_list), max(gen_list))\n",
    "\n",
    "x = np.arange(0, max(gen_list))\n",
    "\n",
    "\n",
    "mean = np.mean(gen_list)\n",
    "median = np.median(gen_list)\n",
    "print(\"mean\", mean)\n",
    "print(\"median\", median)\n",
    "\n",
    "plt.vlines((mean, median), 0, 120)\n",
    "\n",
    "\n",
    "plt.show()\n"
   ]
  },
  {
   "cell_type": "code",
   "execution_count": null,
   "metadata": {},
   "outputs": [],
   "source": []
  }
 ],
 "metadata": {
  "kernelspec": {
   "display_name": "Python 3",
   "language": "python",
   "name": "python3"
  },
  "language_info": {
   "codemirror_mode": {
    "name": "ipython",
    "version": 3
   },
   "file_extension": ".py",
   "mimetype": "text/x-python",
   "name": "python",
   "nbconvert_exporter": "python",
   "pygments_lexer": "ipython3",
   "version": "3.8.3"
  }
 },
 "nbformat": 4,
 "nbformat_minor": 4
}
