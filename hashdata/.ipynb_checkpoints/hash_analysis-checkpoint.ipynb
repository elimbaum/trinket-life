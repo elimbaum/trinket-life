{
 "cells": [
  {
   "cell_type": "markdown",
   "metadata": {},
   "source": [
    "Read hash data from file:"
   ]
  },
  {
   "cell_type": "code",
   "execution_count": 10,
   "metadata": {},
   "outputs": [],
   "source": [
    "hash_data = []\n",
    "\n",
    "with open('hashes.txt') as f:\n",
    "    for line in f:\n",
    "        line = line.strip()\n",
    "        if line.startswith(\"MATCH\"):\n",
    "            # hash line\n",
    "            words = line.split(\" \")\n",
    "\n",
    "            hash = words[1]\n",
    "            gen = int(words[4])\n",
    "            t = int(words[5][1:])\n",
    "            \n",
    "            hash_data.append((hash, gen))"
   ]
  },
  {
   "cell_type": "markdown",
   "metadata": {},
   "source": [
    "Start analysis:\n",
    "\n",
    "- distribution of timings\n",
    "- distribution of generations\n",
    "- repeat hashes\n",
    "\n",
    "Actually, framerate is very consistent, so can ignore timing."
   ]
  },
  {
   "cell_type": "code",
   "execution_count": 11,
   "metadata": {},
   "outputs": [],
   "source": [
    "hash_set = set()\n",
    "n_dups = 0\n",
    "for H, G in hash_data:\n",
    "    if H in hash_set:\n",
    "        print(\"dup\", H)\n",
    "        n += 1\n",
    "    else:\n",
    "        hash_set.add(H)\n",
    "print(n, \"dups\")    "
   ]
  },
  {
   "cell_type": "code",
   "execution_count": null,
   "metadata": {},
   "outputs": [],
   "source": []
  }
 ],
 "metadata": {
  "kernelspec": {
   "display_name": "Python 3",
   "language": "python",
   "name": "python3"
  },
  "language_info": {
   "codemirror_mode": {
    "name": "ipython",
    "version": 3
   },
   "file_extension": ".py",
   "mimetype": "text/x-python",
   "name": "python",
   "nbconvert_exporter": "python",
   "pygments_lexer": "ipython3",
   "version": "3.8.3"
  }
 },
 "nbformat": 4,
 "nbformat_minor": 4
}
